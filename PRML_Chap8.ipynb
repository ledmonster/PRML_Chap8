{
 "cells": [
  {
   "cell_type": "markdown",
   "metadata": {},
   "source": [
    "※ 社内勉強会向け資料です。（2015-11-02）\n",
    "\n",
    "# 第8章 グラフィカルモデル\n",
    "\n",
    "確率分布を **確率的グラフィカルモデル** として図で表すことで、\n",
    "\n",
    "- 確率モデルの構造を視覚的に理解できる\n",
    "- グラフ構造から、条件付き独立性などの性質が分かる\n",
    "- グラフ構造が数学表現と対応している\n",
    "\n",
    "メリットを享受できる。\n",
    "\n",
    "### 用語定義\n",
    "\n",
    "- リンク（エッジ、辺）\n",
    "- ノード（頂点）\n",
    "- 有向グラフ（ベイジアンネットワーク）\n",
    "    - DAG （Directed Asynclic Graph: 有向非循環グラフ）\n",
    "        - ベイジアンネットワークの前提条件として扱われる\n",
    "- 無向グラフ（マルコフ確率場）\n",
    "- 因子グラフ（後述）\n",
    "\n",
    "### 参考\n",
    "\n",
    "なお、確率的グラフィカルモデルについては、Stanford の下記オンライン授業が詳しい。\n",
    "\n",
    "- [Probabilistic Graphical Models](https://www.coursera.org/course/pgm) by Daphne Koller\n",
    "\n",
    "グラフィカルモデルは PRML でもハイライトで、表紙画像にもなっている。"
   ]
  },
  {
   "cell_type": "markdown",
   "metadata": {},
   "source": [
    "# 8.1 ベイジアンネットワーク\n",
    "### グラフィカルモデルの例\n",
    "Daft パッケージを利用して描画してみます。\n",
    "\n",
    "- 参考: http://daft-pgm.org/examples/badfont/\n",
    "\n",
    "PGM\n",
    "\n",
    "- shape: グリッドの大きさ（幅・高さ）\n",
    "- origin: 左下の座標（x, y）\n",
    "    - 中心位置でオブジェクトを指定しているので、オフセットを設けるために指定していると思われる\n",
    "- aspect: ノードの楕円の縦横比\n",
    "\n",
    "Node\n",
    "- name\n",
    "- content: 表示名\n",
    "- x: x座標\n",
    "- y: y座標\n",
    "\n",
    "Edge\n",
    "- node1\n",
    "- node2"
   ]
  },
  {
   "cell_type": "code",
   "execution_count": 56,
   "metadata": {
    "collapsed": true
   },
   "outputs": [],
   "source": [
    "%matplotlib inline\n",
    "from matplotlib import rc\n",
    "import daft\n",
    "rc(\"font\", family=\"serif\", size=18)\n",
    "rc(\"text\", usetex=False)"
   ]
  },
  {
   "cell_type": "code",
   "execution_count": 57,
   "metadata": {
    "collapsed": false
   },
   "outputs": [
    {
     "data": {
      "text/plain": [
       "<matplotlib.axes._axes.Axes at 0x7f1962defb50>"
      ]
     },
     "execution_count": 57,
     "metadata": {},
     "output_type": "execute_result"
    },
    {
     "data": {
      "image/png": "[encoded data removed]",
      "text/plain": [
       "<matplotlib.figure.Figure at 0x7f1962df8a10>"
      ]
     },
     "metadata": {},
     "output_type": "display_data"
    }
   ],
   "source": [
    "# PGM\n",
    "pgm = daft.PGM([4, 3], origin=[0.3, 0.3], aspect=1)\n",
    "\n",
    "# Nodes\n",
    "pgm.add_node(daft.Node(\"alpha\", r\"$\\alpha$\", 0.5, 2.5, fixed=True))\n",
    "pgm.add_node(daft.Node(\"x\", \"x\", 2.0, 2.5))\n",
    "pgm.add_node(daft.Node(\"y\", \"y\", 1.0, 1.0))\n",
    "pgm.add_node(daft.Node(\"z\", \"z\", 3.0, 1.0, observed=True))\n",
    "\n",
    "# Edges\n",
    "pgm.add_edge(\"alpha\", \"x\")\n",
    "pgm.add_edge(\"x\", \"y\")\n",
    "pgm.add_edge(\"y\", \"z\")\n",
    "pgm.add_edge(\"x\", \"z\")\n",
    "\n",
    "# render\n",
    "pgm.render()"
   ]
  },
  {
   "cell_type": "markdown",
   "metadata": {},
   "source": [
    "- $\\alpha$ は決定的パラメータ\n",
    "- $z$ は観測値\n",
    "- x は y の親ノード\n",
    "- y は x の子ノード\n",
    "\n",
    "対応するグラフィカルモデル\n",
    "\n",
    "\\begin{equation*}\n",
    "  p(x, y, z) = p(z|x,y) p(y|x) p(x)\n",
    "\\end{equation*}\n",
    "\n",
    "同時分布の因子分解（factorization）とグラフィカルモデルは1対1で対応している。\n",
    "\n",
    "※ 同じ同時確率でも、因子分解の仕方によってグラフィカルモデルの形は異なる\n",
    "\n",
    "※ すべてのノードの組に対してリンクを持つ場合、全結合であるという\n"
   ]
  },
  {
   "cell_type": "markdown",
   "metadata": {},
   "source": [
    "### 分解のための一般公式\n",
    "\n",
    "\\begin{equation*}\n",
    "  p(x) = \\prod_{k=1}^{K} p(x_k|pa_k)\n",
    "\\end{equation*}\n",
    "\n",
    "有向閉路を持たないグラフ（DAG）は、大きい番号を持つノードから小さい番号を持つノードへのリンクが存在しないように順序付けられる。\n",
    "\n",
    "※図8.2 の同時分布を因子分解してみよう！！"
   ]
  },
  {
   "cell_type": "markdown",
   "metadata": {},
   "source": [
    "##  8.1.1 例: 多項式曲線フィッティング\n",
    "\n",
    "手元に上巻がないんだけど、たぶんこんなやつ。\n",
    "\n",
    "\\begin{equation*}\n",
    "  t(x, w) = \\sum_{i=0}^{N} w_i x^i + \\epsilon\n",
    "\\end{equation*}\n",
    "\n",
    "w の事前分布と、w のもとで t が観測される条件付き確率を使って、t, w の同時分布は下記のように表せる。\n",
    "\n",
    "\\begin{equation*}\n",
    "  p(t, w) = p(w) \\prod_{n=1}^{N} p(t_n | w)\n",
    "\\end{equation*}\n",
    "\n",
    "※ この具体的な中身を、1.2.6節に戻って、少し復習したい。\n",
    "\n",
    "\n",
    "これは、いわゆる尤度になるのかな。ノイズの分散 $\\sigma^2$ や w の事前分布の精度 $\\alpha$ や入力値 $x_n$ も明示的に書くと、\n",
    "\n",
    "\\begin{equation*}\n",
    "  p(t, w|x, \\alpha, \\sigma^2) = p(w|\\alpha) \\prod_{n=1}^{N} p(t_n | w, x_n, \\sigma^2)\n",
    "\\end{equation*}\n",
    "\n",
    "これのグラフィカルモデルが、図8.4 だとか、図8.5 だとかになる。（ごめんなさい、Dart で描く気力がなかったので、[PRMLのページ](http://research.microsoft.com/en-us/um/people/cmbishop/PRML/webfigs.htm#ch8)より引用）\n",
    "\n",
    "図8.4\n",
    "\n",
    "<img src=\"http://research.microsoft.com/en-us/um/people/cmbishop/PRML/prmlfigs-png/Figure8.4.png\" width=\"250px\">\n",
    "\n",
    "図8.5\n",
    "\n",
    "<img src=\"http://research.microsoft.com/en-us/um/people/cmbishop/PRML/prmlfigs-png/Figure8.5.png\" width=\"250px\">\n",
    "\n",
    "この四角いのを **プレート** といって、繰り返しを表現することができる。\n",
    "\n",
    "図8.6\n",
    "\n",
    "<img src=\"http://research.microsoft.com/en-us/um/people/cmbishop/PRML/prmlfigs-png/Figure8.6.png\" width=\"250px\">\n",
    "\n",
    "- 観測値は影をつけて表すこともある\n",
    "- 逆に、観測値でない確率変数を「潜在変数」と言い、確率モデルの中でとても重要な役割を果たす。\n",
    "\n",
    "グラフィカルモデルのうち、有向なものの作図ルールは、ここまででほぼ網羅されてるんじゃないかな。"
   ]
  },
  {
   "cell_type": "markdown",
   "metadata": {},
   "source": [
    "## 8.1.2 生成モデル\n",
    "\n",
    "グラフィカルモデルが書けたら、たいていの場合、ノードの上流から順にデータをサンプリングすることで、確率モデルに従ったデータの組をランダムに生成することができる。これを **伝承サンプリング（ancestral sampling）** という。\n",
    "\n",
    "→ ルールベースの AI （Agent Based Model）の考え方とも似ている気がする。  \n",
    "\n",
    "### 物体認識問題の例\n",
    "\n",
    "<img src=\"http://research.microsoft.com/en-us/um/people/cmbishop/PRML/prmlfigs-png/Figure8.8.png\" width=\"250px\">\n",
    "\n",
    "観測変数が Image で、それ以外を隠れ変数として生成モデルを組み立てると、位置（position）や向き（orientation）の可能性を積分消去することで、物体（object）の条件付き確率を導出できる。\n",
    "\n",
    "一方で、前述の多項式回帰モデルは生成モデルとならない。なぜなら、入力データ $x_n$ に対して確率分布が設定されておらず、データを生成できないため。（$x_n$ の確率分布を仮定すれば、生成モデルにできる）\n",
    "\n",
    "生成モデルは、必ずしも物理的解釈を持つ必要はなく、複雑な同時分布を単純な要素から構成するためだけに導入してもよい（「確率的シミュレーション」じゃないかな）。\n",
    "\n",
    "生成モデルの考え方は、モデルの形を理解する上で、とっても重要！\n",
    "\n",
    "\n",
    "\n",
    "\n"
   ]
  },
  {
   "cell_type": "markdown",
   "metadata": {},
   "source": [
    "----\n",
    "ここから、代表的な適用例として「離散変数」と「線形ガウスモデル」を扱う。\n",
    "\n",
    "## 8.1.3 離散変数\n",
    "\n",
    "各ノードの取りうる状態が有限個で、すべての同時確率を表で表せるようなやつ。\n",
    "\n",
    "| a | b | c | 確率 |\n",
    "|--|--|--|--|\n",
    "| 0 | 0 | 0 | 0.1 |\n",
    "| 0 | 0 | 1 | 0.1 |\n",
    "| 0 | 1 | 0 | 0.2 |\n",
    "| 0 | 1 | 1 | 0.2 |\n",
    "| 1 | 0 | 0 | 0.3 |\n",
    "| 1 | 0 | 1 | 0.05 |\n",
    "| 1 | 1 | 0 | 0.05 |\n",
    "| 1 | 1 | 1 | 0.0 |\n",
    "\n",
    "1-of-K 表現さえきちんと理解できていれば、(8.9)式やその次の式は理解できると思う。\n",
    "\n",
    "1-of-K 表現ってのは、K 個の要素のうち1つだけが1で、それ以外が0のようなベクトル。\n",
    "\n",
    "### パラメータ数の試算\n",
    "\n",
    "M個の変数がそれぞれK状態を持つ場合、\n",
    "\n",
    "- 最も複雑\n",
    "    - 全結合の場合のパラメータ数: $K^M - 1$\n",
    "- 最も単純\n",
    "    - すべての変数が独立な場合のパラメータ数: $M(K-1)$ \n",
    "- その間\n",
    "    - 1つ前の変数だけに依存する場合（例：マルコフ連鎖）: $K-1+(M-1)K(K-1)$\n",
    "\n",
    "また、パラメータを共有することによっても、パラメータ数を減らすことができる。\n",
    "\n",
    "図8.11\n",
    "\n",
    "<img src=\"http://research.microsoft.com/en-us/um/people/cmbishop/PRML/prmlfigs-png/Figure8.11.png\" width=\"250px\">\n",
    "\n",
    "図8.12\n",
    "\n",
    "<img src=\"http://research.microsoft.com/en-us/um/people/cmbishop/PRML/prmlfigs-png/Figure8.12.png\" width=\"250px\">\n",
    "\n",
    "さらに別の方法（パラメータ共有の亜種？）として、パラメトリックなモデルを仮定して、パラメータ数を減らすこともできる。\n",
    "\n",
    "<img src=\"http://research.microsoft.com/en-us/um/people/cmbishop/PRML/prmlfigs-png/Figure8.13.png\" width=\"250px\">\n",
    "\n",
    "このようなモデルで $x_n$ がそれぞれ2状態持つとすると、同時確率のパラメータは $2^M -1$ 個必要になる（指数的に増大）。だけど、\n",
    "\n",
    "\\begin{equation*}\n",
    "  p(y=1|x_1, .. x_M) = \\sigma(w^Tx)\n",
    "\\end{equation*}\n",
    "\n",
    "のようなロジスティックシグモイド関数を仮定すると、M+1個のパラメータで条件付き確率分布を表現できる。"
   ]
  },
  {
   "cell_type": "markdown",
   "metadata": {
    "collapsed": true
   },
   "source": [
    "## 8.1.4 線形ガウスモデル\n",
    "\n",
    "ここでは、有向グラフによって、多変量ガウス分布を表現する方法を学ぶ。\n",
    "\n",
    "- 最も単純な例: 対角共分散（非対角要素が0、すなわち要素間が独立）\n",
    "- 最も複雑な例: 一般の多変量ガウス分布\n",
    "- その間: 部分的に要素間に制約あり\n",
    "\n",
    "確率的主成分分析や、確率的因子分析、線形動的システム（状態空間モデルかも）で、本節での手法が広く利用されている。\n",
    "\n",
    "### 多変量ガウス分布\n",
    "\n",
    "有向非循環グラフを想定して、確率分布を式で表すと下記のような感じ。\n",
    "\n",
    "\\begin{equation*}\n",
    "  p(x_i|pa_i) = N(x_i | \\sum_{j \\in pa_i}^{}w_{ij}x_j + b_j, v_i)\n",
    "\\end{equation*}\n",
    "\n",
    "上流から順に値を決めていった場合に、下流のガウス分布の平均値が、上流の変数の値で決まる。各変数のガウス分布の分散は一定。\n",
    "\n",
    "対数尤度を求めてみようぜ。\n",
    "\n",
    "\\begin{equation*}\n",
    "  \\ln p(x) = \\sum_{i=1}^D \\ln p(x_i|pa_i)  \\\\\n",
    "    = - \\sum_{i=1}^D \\frac{1}{2v_i}(x_i - \\sum_{j \\in pa_i}^{}w_{ij}x_{j}-b_i)^2 + const.\n",
    "\\end{equation*}\n",
    "\n",
    "結局、上記の有向非循環グラフは、多変量ガウス分布となることが分かる。\n",
    "\n",
    "この同時分布の平均や共分散は、番号の小さいノードから順に再帰計算をすることによって求められる。\n",
    "\n",
    "#### パラメータ数の見積もり\n",
    "\n",
    "- すべての変数が独立な場合\n",
    "    - 各変数ごとに平均と分散を持つので、2D個\n",
    "- 全結合の場合\n",
    "    - 共分散行列が全要素に値を持つので D(D+1)/2 個\n",
    "\n",
    "その間の場合は、一部パラメータを省略できる。\n",
    "\n",
    "図8.14\n",
    "\n",
    "<img src=\"http://research.microsoft.com/en-us/um/people/cmbishop/PRML/prmlfigs-png/Figure8.14.png\" width=\"250px\">\n",
    "\n",
    "### ガウス分布の平均 $\\mu$ の共役事前分布をガウス分布とした場合\n",
    "\n",
    "\n",
    "ガウス分布に従う $x$ の平均を $\\mu$、 $\\mu$ の平均を $\\mu'$（がうすぶｎ）、$\\mu'$ もガウス分布に従うとして平均を $\\alpha$ とすると、以下の様な階層ベイズモデル（いくらでも多段にできる）で表せる。（ここではいったん、分散は無視している）\n"
   ]
  },
  {
   "cell_type": "code",
   "execution_count": 63,
   "metadata": {
    "collapsed": false
   },
   "outputs": [
    {
     "data": {
      "text/plain": [
       "<matplotlib.axes._axes.Axes at 0x7f1962a8d5d0>"
      ]
     },
     "execution_count": 63,
     "metadata": {},
     "output_type": "execute_result"
    },
    {
     "data": {
      "image/png": "[encoded data removed]",
      "text/plain": [
       "<matplotlib.figure.Figure at 0x7f1962a17890>"
      ]
     },
     "metadata": {},
     "output_type": "display_data"
    }
   ],
   "source": [
    "# PGM\n",
    "pgm = daft.PGM([4, 2], origin=[0.3, 0.3], aspect=1)\n",
    "\n",
    "# Nodes\n",
    "pgm.add_node(daft.Node(\"alpha\", r\"$\\alpha$\", 0.5, 1.5, fixed=True))\n",
    "pgm.add_node(daft.Node(\"mu\", r\"$\\mu$\", 1.5, 1.5))\n",
    "pgm.add_node(daft.Node(\"m\", \"m\", 2.5, 1.5))\n",
    "pgm.add_node(daft.Node(\"x\", \"x\", 3.5, 1.5))\n",
    "\n",
    "# Edges\n",
    "pgm.add_edge(\"alpha\", \"mu\")\n",
    "pgm.add_edge(\"mu\", \"m\")\n",
    "pgm.add_edge(\"m\", \"x\")\n",
    "\n",
    "# render\n",
    "pgm.render()"
   ]
  },
  {
   "cell_type": "code",
   "execution_count": null,
   "metadata": {
    "collapsed": true
   },
   "outputs": [],
   "source": []
  }
 ],
 "metadata": {
  "kernelspec": {
   "display_name": "Python 2",
   "language": "python",
   "name": "python2"
  },
  "language_info": {
   "codemirror_mode": {
    "name": "ipython",
    "version": 2
   },
   "file_extension": ".py",
   "mimetype": "text/x-python",
   "name": "python",
   "nbconvert_exporter": "python",
   "pygments_lexer": "ipython2",
   "version": "2.7.9"
  }
 },
 "nbformat": 4,
 "nbformat_minor": 0
}
